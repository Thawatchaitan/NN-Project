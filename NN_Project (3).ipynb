{
  "nbformat": 4,
  "nbformat_minor": 0,
  "metadata": {
    "colab": {
      "name": "NN_Project.ipynb",
      "provenance": [],
      "toc_visible": true
    },
    "kernelspec": {
      "name": "python3",
      "display_name": "Python 3"
    },
    "accelerator": "GPU"
  },
  "cells": [
    {
      "cell_type": "markdown",
      "metadata": {
        "id": "2GkVCVlCYCEU"
      },
      "source": [
        "# Load Dataset\n",
        "โหลดรูปภาพจากใน github ด้วยคำสั่ง git clone"
      ]
    },
    {
      "cell_type": "code",
      "metadata": {
        "id": "SZrUOACoXpZ3",
        "outputId": "2349e0ab-4df2-4dce-851a-4ef8b711e17e",
        "colab": {
          "base_uri": "https://localhost:8080/",
          "height": 138
        }
      },
      "source": [
        "!git clone https://github.com/Thawatchaitan/NN-Project.git"
      ],
      "execution_count": 1,
      "outputs": [
        {
          "output_type": "stream",
          "text": [
            "Cloning into 'NN-Project'...\n",
            "remote: Enumerating objects: 292, done.\u001b[K\n",
            "remote: Counting objects: 100% (292/292), done.\u001b[K\n",
            "remote: Compressing objects: 100% (272/272), done.\u001b[K\n",
            "remote: Total 292 (delta 14), reused 288 (delta 10), pack-reused 0\u001b[K\n",
            "Receiving objects: 100% (292/292), 30.89 MiB | 12.68 MiB/s, done.\n",
            "Resolving deltas: 100% (14/14), done.\n"
          ],
          "name": "stdout"
        }
      ]
    },
    {
      "cell_type": "code",
      "metadata": {
        "id": "Z4grv6nUYHpu"
      },
      "source": [
        "from keras_preprocessing import image # ใช้แปลงรูปภาพ\n",
        "import numpy as np # ใช้ในการดำเนินการเกี่ยวกับ array\n",
        "import cv2 # ใช้อ่านภาพ\n",
        "import os # ใช้เรียก path\n",
        "import matplotlib.pyplot as plt # ใช้วาดกราฟ"
      ],
      "execution_count": 2,
      "outputs": []
    },
    {
      "cell_type": "code",
      "metadata": {
        "id": "-om-7W9BYskk",
        "outputId": "626bc832-3ed4-4fba-a183-d68a9132af5c",
        "colab": {
          "base_uri": "https://localhost:8080/",
          "height": 691
        }
      },
      "source": [
        "images = [] # เก็บรูปภาพ\n",
        "labels = [] # เก็บ Label รูปภาพ\n",
        "folders = ['/content/NN-Project/Datasets/Eel','/content/NN-Project/Datasets/Mastacembelus'] # เก็บ path\n",
        "def load_dataset(folder): # load_dataset เป็นฟังก์ชันไว้เก็บรูปภาพลง list\n",
        "    for filename in os.listdir(folder):\n",
        "        try:\n",
        "            img = cv2.imread(os.path.join(folder, filename)) # อ่าน path จากใน folder ด้วยการ join path\n",
        "            img = cv2.resize(img, (500,500)) # resize รูปภาพโดยใช้ขนาด 300 x 300\n",
        "            img = image.img_to_array(img) # แปลงรูปภาพเป็น array\n",
        "            label = folder.split(os.path.sep)[-1]  # เก็บชื่อของ Label\n",
        "            images.append(img) # เพิ่ม รูปภาพที่อยู่ในรูป array ลงใน list ที่มีชื่อว่า images\n",
        "            labels.append(label) # เพิ่ม label ลงใน list ที่มีชื่อว่า labels\n",
        "        except:\n",
        "            continue\n",
        "\n",
        "for folder in folders:\n",
        "    load_dataset(folder)\n",
        "x = np.array(images)/255 # แปลงชนิดข้อมูลเป็น type float32 และหารด้วย 255 ให้ค่าสีอยู่ในช่วง 0–1\n",
        "y = np.array(labels) # เก็บ Label รูปภาพ\n",
        "print(x.shape) # .shape คือการดูขนาดของ array\n",
        "print(y)"
      ],
      "execution_count": 3,
      "outputs": [
        {
          "output_type": "stream",
          "text": [
            "(219, 500, 500, 3)\n",
            "['Eel' 'Eel' 'Eel' 'Eel' 'Eel' 'Eel' 'Eel' 'Eel' 'Eel' 'Eel' 'Eel' 'Eel'\n",
            " 'Eel' 'Eel' 'Eel' 'Eel' 'Eel' 'Eel' 'Eel' 'Eel' 'Eel' 'Eel' 'Eel' 'Eel'\n",
            " 'Eel' 'Eel' 'Eel' 'Eel' 'Eel' 'Eel' 'Eel' 'Eel' 'Eel' 'Eel' 'Eel' 'Eel'\n",
            " 'Eel' 'Eel' 'Eel' 'Eel' 'Eel' 'Eel' 'Eel' 'Eel' 'Eel' 'Eel' 'Eel' 'Eel'\n",
            " 'Eel' 'Eel' 'Eel' 'Eel' 'Eel' 'Eel' 'Eel' 'Eel' 'Eel' 'Eel' 'Eel' 'Eel'\n",
            " 'Eel' 'Eel' 'Eel' 'Eel' 'Eel' 'Eel' 'Eel' 'Eel' 'Eel' 'Eel' 'Eel' 'Eel'\n",
            " 'Eel' 'Eel' 'Eel' 'Eel' 'Eel' 'Eel' 'Eel' 'Eel' 'Eel' 'Eel' 'Eel' 'Eel'\n",
            " 'Eel' 'Eel' 'Eel' 'Eel' 'Eel' 'Eel' 'Eel' 'Eel' 'Eel' 'Eel' 'Eel' 'Eel'\n",
            " 'Eel' 'Eel' 'Eel' 'Eel' 'Eel' 'Eel' 'Eel' 'Eel' 'Eel' 'Eel'\n",
            " 'Mastacembelus' 'Mastacembelus' 'Mastacembelus' 'Mastacembelus'\n",
            " 'Mastacembelus' 'Mastacembelus' 'Mastacembelus' 'Mastacembelus'\n",
            " 'Mastacembelus' 'Mastacembelus' 'Mastacembelus' 'Mastacembelus'\n",
            " 'Mastacembelus' 'Mastacembelus' 'Mastacembelus' 'Mastacembelus'\n",
            " 'Mastacembelus' 'Mastacembelus' 'Mastacembelus' 'Mastacembelus'\n",
            " 'Mastacembelus' 'Mastacembelus' 'Mastacembelus' 'Mastacembelus'\n",
            " 'Mastacembelus' 'Mastacembelus' 'Mastacembelus' 'Mastacembelus'\n",
            " 'Mastacembelus' 'Mastacembelus' 'Mastacembelus' 'Mastacembelus'\n",
            " 'Mastacembelus' 'Mastacembelus' 'Mastacembelus' 'Mastacembelus'\n",
            " 'Mastacembelus' 'Mastacembelus' 'Mastacembelus' 'Mastacembelus'\n",
            " 'Mastacembelus' 'Mastacembelus' 'Mastacembelus' 'Mastacembelus'\n",
            " 'Mastacembelus' 'Mastacembelus' 'Mastacembelus' 'Mastacembelus'\n",
            " 'Mastacembelus' 'Mastacembelus' 'Mastacembelus' 'Mastacembelus'\n",
            " 'Mastacembelus' 'Mastacembelus' 'Mastacembelus' 'Mastacembelus'\n",
            " 'Mastacembelus' 'Mastacembelus' 'Mastacembelus' 'Mastacembelus'\n",
            " 'Mastacembelus' 'Mastacembelus' 'Mastacembelus' 'Mastacembelus'\n",
            " 'Mastacembelus' 'Mastacembelus' 'Mastacembelus' 'Mastacembelus'\n",
            " 'Mastacembelus' 'Mastacembelus' 'Mastacembelus' 'Mastacembelus'\n",
            " 'Mastacembelus' 'Mastacembelus' 'Mastacembelus' 'Mastacembelus'\n",
            " 'Mastacembelus' 'Mastacembelus' 'Mastacembelus' 'Mastacembelus'\n",
            " 'Mastacembelus' 'Mastacembelus' 'Mastacembelus' 'Mastacembelus'\n",
            " 'Mastacembelus' 'Mastacembelus' 'Mastacembelus' 'Mastacembelus'\n",
            " 'Mastacembelus' 'Mastacembelus' 'Mastacembelus' 'Mastacembelus'\n",
            " 'Mastacembelus' 'Mastacembelus' 'Mastacembelus' 'Mastacembelus'\n",
            " 'Mastacembelus' 'Mastacembelus' 'Mastacembelus' 'Mastacembelus'\n",
            " 'Mastacembelus' 'Mastacembelus' 'Mastacembelus' 'Mastacembelus'\n",
            " 'Mastacembelus' 'Mastacembelus' 'Mastacembelus' 'Mastacembelus'\n",
            " 'Mastacembelus' 'Mastacembelus' 'Mastacembelus' 'Mastacembelus'\n",
            " 'Mastacembelus']\n"
          ],
          "name": "stdout"
        }
      ]
    },
    {
      "cell_type": "markdown",
      "metadata": {
        "id": "jKfrJFDlY12y"
      },
      "source": [
        "# Label / Onehot Encoder\n",
        "เพื่อแปลงข้อมูลหมวดหมู่หรือข้อมูลตัวอักษรเป็นตัวเลขซึ่งตัวแบบการทำนายของเราสามารถเข้าใจได้ดีขึ้น"
      ]
    },
    {
      "cell_type": "code",
      "metadata": {
        "id": "q-nVtsGMYxft",
        "outputId": "78067fee-cb01-4fcd-f2c6-5fbe72ae0a23",
        "colab": {
          "base_uri": "https://localhost:8080/",
          "height": 1000
        }
      },
      "source": [
        "from sklearn.preprocessing import LabelEncoder, OneHotEncoder \n",
        "\n",
        "#integer encoder\n",
        "integer_encoded = LabelEncoder().fit_transform(y) # ทำการแปลงข้อมูลเป็นข้อมูลตัวเลข จากตัวแปร y และเก็บลงใน integer_encoded\n",
        "integer_encoded = integer_encoded.reshape(len(integer_encoded), 1) # ใช้ reshape เป็น method ที่จะทำการคืน array ใหม่ที่มีขนาดมิติเท่ากับที่กำหนด\n",
        "print(integer_encoded.shape)\n",
        "\n",
        "#One hot encoding (binary encoded)\n",
        "onehot_encoder = OneHotEncoder(sparse=False).fit_transform(integer_encoded) # แยกคอลัมน์ออกเป็นหลายคอลัมน์ ตัวเลขจะถูกแทนที่ด้วย 1s และ 0s\n",
        "y = np.array(onehot_encoder)\n",
        "print(y)"
      ],
      "execution_count": 4,
      "outputs": [
        {
          "output_type": "stream",
          "text": [
            "(219, 1)\n",
            "[[1. 0.]\n",
            " [1. 0.]\n",
            " [1. 0.]\n",
            " [1. 0.]\n",
            " [1. 0.]\n",
            " [1. 0.]\n",
            " [1. 0.]\n",
            " [1. 0.]\n",
            " [1. 0.]\n",
            " [1. 0.]\n",
            " [1. 0.]\n",
            " [1. 0.]\n",
            " [1. 0.]\n",
            " [1. 0.]\n",
            " [1. 0.]\n",
            " [1. 0.]\n",
            " [1. 0.]\n",
            " [1. 0.]\n",
            " [1. 0.]\n",
            " [1. 0.]\n",
            " [1. 0.]\n",
            " [1. 0.]\n",
            " [1. 0.]\n",
            " [1. 0.]\n",
            " [1. 0.]\n",
            " [1. 0.]\n",
            " [1. 0.]\n",
            " [1. 0.]\n",
            " [1. 0.]\n",
            " [1. 0.]\n",
            " [1. 0.]\n",
            " [1. 0.]\n",
            " [1. 0.]\n",
            " [1. 0.]\n",
            " [1. 0.]\n",
            " [1. 0.]\n",
            " [1. 0.]\n",
            " [1. 0.]\n",
            " [1. 0.]\n",
            " [1. 0.]\n",
            " [1. 0.]\n",
            " [1. 0.]\n",
            " [1. 0.]\n",
            " [1. 0.]\n",
            " [1. 0.]\n",
            " [1. 0.]\n",
            " [1. 0.]\n",
            " [1. 0.]\n",
            " [1. 0.]\n",
            " [1. 0.]\n",
            " [1. 0.]\n",
            " [1. 0.]\n",
            " [1. 0.]\n",
            " [1. 0.]\n",
            " [1. 0.]\n",
            " [1. 0.]\n",
            " [1. 0.]\n",
            " [1. 0.]\n",
            " [1. 0.]\n",
            " [1. 0.]\n",
            " [1. 0.]\n",
            " [1. 0.]\n",
            " [1. 0.]\n",
            " [1. 0.]\n",
            " [1. 0.]\n",
            " [1. 0.]\n",
            " [1. 0.]\n",
            " [1. 0.]\n",
            " [1. 0.]\n",
            " [1. 0.]\n",
            " [1. 0.]\n",
            " [1. 0.]\n",
            " [1. 0.]\n",
            " [1. 0.]\n",
            " [1. 0.]\n",
            " [1. 0.]\n",
            " [1. 0.]\n",
            " [1. 0.]\n",
            " [1. 0.]\n",
            " [1. 0.]\n",
            " [1. 0.]\n",
            " [1. 0.]\n",
            " [1. 0.]\n",
            " [1. 0.]\n",
            " [1. 0.]\n",
            " [1. 0.]\n",
            " [1. 0.]\n",
            " [1. 0.]\n",
            " [1. 0.]\n",
            " [1. 0.]\n",
            " [1. 0.]\n",
            " [1. 0.]\n",
            " [1. 0.]\n",
            " [1. 0.]\n",
            " [1. 0.]\n",
            " [1. 0.]\n",
            " [1. 0.]\n",
            " [1. 0.]\n",
            " [1. 0.]\n",
            " [1. 0.]\n",
            " [1. 0.]\n",
            " [1. 0.]\n",
            " [1. 0.]\n",
            " [1. 0.]\n",
            " [1. 0.]\n",
            " [1. 0.]\n",
            " [0. 1.]\n",
            " [0. 1.]\n",
            " [0. 1.]\n",
            " [0. 1.]\n",
            " [0. 1.]\n",
            " [0. 1.]\n",
            " [0. 1.]\n",
            " [0. 1.]\n",
            " [0. 1.]\n",
            " [0. 1.]\n",
            " [0. 1.]\n",
            " [0. 1.]\n",
            " [0. 1.]\n",
            " [0. 1.]\n",
            " [0. 1.]\n",
            " [0. 1.]\n",
            " [0. 1.]\n",
            " [0. 1.]\n",
            " [0. 1.]\n",
            " [0. 1.]\n",
            " [0. 1.]\n",
            " [0. 1.]\n",
            " [0. 1.]\n",
            " [0. 1.]\n",
            " [0. 1.]\n",
            " [0. 1.]\n",
            " [0. 1.]\n",
            " [0. 1.]\n",
            " [0. 1.]\n",
            " [0. 1.]\n",
            " [0. 1.]\n",
            " [0. 1.]\n",
            " [0. 1.]\n",
            " [0. 1.]\n",
            " [0. 1.]\n",
            " [0. 1.]\n",
            " [0. 1.]\n",
            " [0. 1.]\n",
            " [0. 1.]\n",
            " [0. 1.]\n",
            " [0. 1.]\n",
            " [0. 1.]\n",
            " [0. 1.]\n",
            " [0. 1.]\n",
            " [0. 1.]\n",
            " [0. 1.]\n",
            " [0. 1.]\n",
            " [0. 1.]\n",
            " [0. 1.]\n",
            " [0. 1.]\n",
            " [0. 1.]\n",
            " [0. 1.]\n",
            " [0. 1.]\n",
            " [0. 1.]\n",
            " [0. 1.]\n",
            " [0. 1.]\n",
            " [0. 1.]\n",
            " [0. 1.]\n",
            " [0. 1.]\n",
            " [0. 1.]\n",
            " [0. 1.]\n",
            " [0. 1.]\n",
            " [0. 1.]\n",
            " [0. 1.]\n",
            " [0. 1.]\n",
            " [0. 1.]\n",
            " [0. 1.]\n",
            " [0. 1.]\n",
            " [0. 1.]\n",
            " [0. 1.]\n",
            " [0. 1.]\n",
            " [0. 1.]\n",
            " [0. 1.]\n",
            " [0. 1.]\n",
            " [0. 1.]\n",
            " [0. 1.]\n",
            " [0. 1.]\n",
            " [0. 1.]\n",
            " [0. 1.]\n",
            " [0. 1.]\n",
            " [0. 1.]\n",
            " [0. 1.]\n",
            " [0. 1.]\n",
            " [0. 1.]\n",
            " [0. 1.]\n",
            " [0. 1.]\n",
            " [0. 1.]\n",
            " [0. 1.]\n",
            " [0. 1.]\n",
            " [0. 1.]\n",
            " [0. 1.]\n",
            " [0. 1.]\n",
            " [0. 1.]\n",
            " [0. 1.]\n",
            " [0. 1.]\n",
            " [0. 1.]\n",
            " [0. 1.]\n",
            " [0. 1.]\n",
            " [0. 1.]\n",
            " [0. 1.]\n",
            " [0. 1.]\n",
            " [0. 1.]\n",
            " [0. 1.]\n",
            " [0. 1.]\n",
            " [0. 1.]\n",
            " [0. 1.]\n",
            " [0. 1.]\n",
            " [0. 1.]\n",
            " [0. 1.]\n",
            " [0. 1.]\n",
            " [0. 1.]\n",
            " [0. 1.]\n",
            " [0. 1.]]\n"
          ],
          "name": "stdout"
        }
      ]
    },
    {
      "cell_type": "markdown",
      "metadata": {
        "id": "EIq0jto0ZHoJ"
      },
      "source": [
        "# Train / Test split"
      ]
    },
    {
      "cell_type": "code",
      "metadata": {
        "id": "lsSr7tpWYz6c",
        "outputId": "80fba6f6-8460-4c1f-d56f-90d75422d170",
        "colab": {
          "base_uri": "https://localhost:8080/",
          "height": 86
        }
      },
      "source": [
        "from sklearn.model_selection import train_test_split # ใช้ในการแบ่งข้อมูล x_train, x_test, y_train, y_test\n",
        "\n",
        "(x_train, x_test, y_train, y_test) = train_test_split(x, y, test_size=0.1, random_state=4) # ตัดข้อมูล โดยแบ่ง x_train,y_train  90%  x_test, y_test 10%\n",
        "\n",
        "print(x_train.shape)\n",
        "print(x_test.shape)\n",
        "print(y_train.shape)\n",
        "print(y_test.shape)"
      ],
      "execution_count": 5,
      "outputs": [
        {
          "output_type": "stream",
          "text": [
            "(197, 500, 500, 3)\n",
            "(22, 500, 500, 3)\n",
            "(197, 2)\n",
            "(22, 2)\n"
          ],
          "name": "stdout"
        }
      ]
    },
    {
      "cell_type": "markdown",
      "metadata": {
        "id": "-rxyALoIZkQX"
      },
      "source": [
        "# วิธีการ TRAIN"
      ]
    },
    {
      "cell_type": "code",
      "metadata": {
        "id": "MZ4bOkYOZnB1",
        "outputId": "a566e0a7-6b07-4a5d-b5e9-5d25b74eca5d",
        "colab": {
          "base_uri": "https://localhost:8080/",
          "height": 795
        }
      },
      "source": [
        "\n",
        "#Convolution NN\n",
        "from keras.layers import Conv2D, MaxPooling2D, Dense, Flatten, Activation ,BatchNormalization\n",
        "from keras.models import Sequential\n",
        "\n",
        "n_classes = len(folders) # จำนวน classses\n",
        "\n",
        "model = Sequential() #เพื่อจะ add layer กำหนด model เท่ากับ sequential\n",
        "model.add(Conv2D(16, (3, 3), input_shape=(500,500,3), activation='relu')) # เอารูปภาพขนาด 500x500 นำไป conv ใช่ filters 16 ชั้น ขนาด kernal size ขนาด 3x3 input รูปภาพ 500x500 ใช้ Activation Function '' การตรวจสอบรูปภาพก่อนหน้า โดยข้อมูลจะถูกแปลงมาอยู่ในรูปของ non-linear \n",
        "model.add(BatchNormalization()) # นำเอา feature vector มาวิเคราะห์ เราควรทำการ normalize มันก่อน วิธีง่ายสุดก็คือการลบค่าเฉลี่ยให้มันมีการกระจายรอบ 0 และทำการ normalize ให้มีการกระจายตัวมาตรฐาน\n",
        "model.add(MaxPooling2D(pool_size = (3, 3))) # ลดขนาดของ input มิติ รูปภาพเหลือครึ่งหนึ่ง\n",
        "model.add(Activation('relu'))\n",
        "\n",
        "\n",
        "model.add(Conv2D(32, (3, 3) ,activation='relu')) # นำไป conv ใช่ filters 32 ชั้น ขนาด kernal size ขนาด 3x3 ใช้ Activation Function '' การตรวจสอบรูปภาพก่อนหน้า โดยข้อมูลจะถูกแปลงมาอยู่ในรูปของ non-linear\n",
        "model.add(BatchNormalization()) # นำเอา feature vector มาวิเคราะห์ เราควรทำการ normalize มันก่อน วิธีง่ายสุดก็คือการลบค่าเฉลี่ยให้มันมีการกระจายรอบ 0 และทำการ normalize ให้มีการกระจายตัวมาตรฐาน\n",
        "model.add(MaxPooling2D(pool_size = (3, 3))) # ลดขนาดของ input มิติ รูปภาพเหลือครึ่งหนึ่ง\n",
        "\n",
        "\n",
        "model.add(Conv2D(70, (3, 3) ,activation='relu')) # นำไป conv ใช่ filters 70 ชั้น ขนาด kernal size ขนาด 3x3 ใช้ Activation Function '' การตรวจสอบรูปภาพก่อนหน้า โดยข้อมูลจะถูกแปลงมาอยู่ในรูปของ non-linear\n",
        "model.add(MaxPooling2D(pool_size = (3, 3))) # ลดขนาดของ input มิติ รูปภาพเหลือครึ่งหนึ่ง\n",
        "\n",
        "model.add(Conv2D(70, (3, 3) ,activation='relu')) # นำไป conv ใช่ filters 70 ชั้น ขนาด kernal size ขนาด 3x3 ใช้ Activation Function '' การตรวจสอบรูปภาพก่อนหน้า โดยข้อมูลจะถูกแปลงมาอยู่ในรูปของ non-linear\n",
        "model.add(Conv2D(120, (3, 3) ,activation='relu')) # นำไป conv ใช่ filters 120 ชั้น ขนาด kernal size ขนาด 3x3 ใช้ Activation Function '' การตรวจสอบรูปภาพก่อนหน้า โดยข้อมูลจะถูกแปลงมาอยู่ในรูปของ non-linear\n",
        "model.add(Conv2D(64, (3, 3) ,activation='relu')) # นำไป conv ใช่ filters 64 ชั้น ขนาด kernal size ขนาด 3x3 ใช้ Activation Function '' การตรวจสอบรูปภาพก่อนหน้า โดยข้อมูลจะถูกแปลงมาอยู่ในรูปของ non-linear\n",
        "model.add(MaxPooling2D(pool_size = (3, 3))) # ลดขนาดของ input มิติ รูปภาพเหลือครึ่งหนึ่ง\n",
        "\n",
        "\n",
        "\n",
        "model.add(Flatten()) # เปลี่ยนจาก 2 มิติ เป็น 1 มิติ\n",
        "model.add(Dense(150, activation='relu')) # hidden layer 1 แท่ง มี 150 neural\n",
        "model.add(Dense(80, activation='relu')) # hidden layer 1 แท่ง มี 80 neural\n",
        "model.add(Dense(40, activation='relu')) # hidden layer 1 แท่ง มี 40 neural\n",
        "model.add(Dense(n_classes, activation='softmax')) # output layer โดยใช้ softmax\n",
        "\n",
        "model.compile(loss='categorical_crossentropy', metrics=['accuracy'], optimizer='adam') # หาค่า loss โดยใช้ categorical_crossentropy ใช้ accuracy หาค่าความถูกต้อง \n",
        "print(model.summary()) # ผลลัพธ์"
      ],
      "execution_count": 6,
      "outputs": [
        {
          "output_type": "stream",
          "text": [
            "Model: \"sequential\"\n",
            "_________________________________________________________________\n",
            "Layer (type)                 Output Shape              Param #   \n",
            "=================================================================\n",
            "conv2d (Conv2D)              (None, 498, 498, 16)      448       \n",
            "_________________________________________________________________\n",
            "batch_normalization (BatchNo (None, 498, 498, 16)      64        \n",
            "_________________________________________________________________\n",
            "max_pooling2d (MaxPooling2D) (None, 166, 166, 16)      0         \n",
            "_________________________________________________________________\n",
            "activation (Activation)      (None, 166, 166, 16)      0         \n",
            "_________________________________________________________________\n",
            "conv2d_1 (Conv2D)            (None, 164, 164, 32)      4640      \n",
            "_________________________________________________________________\n",
            "batch_normalization_1 (Batch (None, 164, 164, 32)      128       \n",
            "_________________________________________________________________\n",
            "max_pooling2d_1 (MaxPooling2 (None, 54, 54, 32)        0         \n",
            "_________________________________________________________________\n",
            "conv2d_2 (Conv2D)            (None, 52, 52, 70)        20230     \n",
            "_________________________________________________________________\n",
            "max_pooling2d_2 (MaxPooling2 (None, 17, 17, 70)        0         \n",
            "_________________________________________________________________\n",
            "conv2d_3 (Conv2D)            (None, 15, 15, 70)        44170     \n",
            "_________________________________________________________________\n",
            "conv2d_4 (Conv2D)            (None, 13, 13, 120)       75720     \n",
            "_________________________________________________________________\n",
            "conv2d_5 (Conv2D)            (None, 11, 11, 64)        69184     \n",
            "_________________________________________________________________\n",
            "max_pooling2d_3 (MaxPooling2 (None, 3, 3, 64)          0         \n",
            "_________________________________________________________________\n",
            "flatten (Flatten)            (None, 576)               0         \n",
            "_________________________________________________________________\n",
            "dense (Dense)                (None, 150)               86550     \n",
            "_________________________________________________________________\n",
            "dense_1 (Dense)              (None, 80)                12080     \n",
            "_________________________________________________________________\n",
            "dense_2 (Dense)              (None, 40)                3240      \n",
            "_________________________________________________________________\n",
            "dense_3 (Dense)              (None, 2)                 82        \n",
            "=================================================================\n",
            "Total params: 316,536\n",
            "Trainable params: 316,440\n",
            "Non-trainable params: 96\n",
            "_________________________________________________________________\n",
            "None\n"
          ],
          "name": "stdout"
        }
      ]
    },
    {
      "cell_type": "code",
      "metadata": {
        "id": "7ecRJX_SaQw_",
        "outputId": "2aef8955-1682-45d9-8226-bd1c9b1452fa",
        "colab": {
          "base_uri": "https://localhost:8080/",
          "height": 1000
        }
      },
      "source": [
        "hist = model.fit(x_train, y_train, batch_size=32, epochs=75, verbose=1) # เริ่ม train ค่าที่ใช้ประกอบด้วย x_train  y_train  batch_size ขนาด 32 epochs ระบุจำนวนรอบ verbose"
      ],
      "execution_count": 7,
      "outputs": [
        {
          "output_type": "stream",
          "text": [
            "Epoch 1/75\n",
            "7/7 [==============================] - 1s 162ms/step - loss: 0.8362 - accuracy: 0.5381\n",
            "Epoch 2/75\n",
            "7/7 [==============================] - 1s 139ms/step - loss: 0.6684 - accuracy: 0.5736\n",
            "Epoch 3/75\n",
            "7/7 [==============================] - 1s 141ms/step - loss: 0.6211 - accuracy: 0.6345\n",
            "Epoch 4/75\n",
            "7/7 [==============================] - 1s 145ms/step - loss: 0.5755 - accuracy: 0.6904\n",
            "Epoch 5/75\n",
            "7/7 [==============================] - 1s 142ms/step - loss: 0.5766 - accuracy: 0.7208\n",
            "Epoch 6/75\n",
            "7/7 [==============================] - 1s 139ms/step - loss: 0.5240 - accuracy: 0.7716\n",
            "Epoch 7/75\n",
            "7/7 [==============================] - 1s 141ms/step - loss: 0.4949 - accuracy: 0.7970\n",
            "Epoch 8/75\n",
            "7/7 [==============================] - 1s 143ms/step - loss: 0.4843 - accuracy: 0.7563\n",
            "Epoch 9/75\n",
            "7/7 [==============================] - 1s 140ms/step - loss: 0.5973 - accuracy: 0.6091\n",
            "Epoch 10/75\n",
            "7/7 [==============================] - 1s 140ms/step - loss: 0.5941 - accuracy: 0.7563\n",
            "Epoch 11/75\n",
            "7/7 [==============================] - 1s 144ms/step - loss: 0.5072 - accuracy: 0.7868\n",
            "Epoch 12/75\n",
            "7/7 [==============================] - 1s 138ms/step - loss: 0.4093 - accuracy: 0.8274\n",
            "Epoch 13/75\n",
            "7/7 [==============================] - 1s 146ms/step - loss: 0.4260 - accuracy: 0.8071\n",
            "Epoch 14/75\n",
            "7/7 [==============================] - 1s 138ms/step - loss: 0.3461 - accuracy: 0.8173\n",
            "Epoch 15/75\n",
            "7/7 [==============================] - 1s 139ms/step - loss: 0.3820 - accuracy: 0.8071\n",
            "Epoch 16/75\n",
            "7/7 [==============================] - 1s 139ms/step - loss: 0.4122 - accuracy: 0.8274\n",
            "Epoch 17/75\n",
            "7/7 [==============================] - 1s 141ms/step - loss: 0.3969 - accuracy: 0.8020\n",
            "Epoch 18/75\n",
            "7/7 [==============================] - 1s 144ms/step - loss: 0.3252 - accuracy: 0.8782\n",
            "Epoch 19/75\n",
            "7/7 [==============================] - 1s 137ms/step - loss: 0.2806 - accuracy: 0.8883\n",
            "Epoch 20/75\n",
            "7/7 [==============================] - 1s 142ms/step - loss: 0.2984 - accuracy: 0.8934\n",
            "Epoch 21/75\n",
            "7/7 [==============================] - 1s 145ms/step - loss: 0.1865 - accuracy: 0.9086\n",
            "Epoch 22/75\n",
            "7/7 [==============================] - 1s 140ms/step - loss: 0.3140 - accuracy: 0.8832\n",
            "Epoch 23/75\n",
            "7/7 [==============================] - 1s 144ms/step - loss: 0.2654 - accuracy: 0.9137\n",
            "Epoch 24/75\n",
            "7/7 [==============================] - 1s 139ms/step - loss: 0.2293 - accuracy: 0.9086\n",
            "Epoch 25/75\n",
            "7/7 [==============================] - 1s 145ms/step - loss: 0.2657 - accuracy: 0.9086\n",
            "Epoch 26/75\n",
            "7/7 [==============================] - 1s 147ms/step - loss: 0.3860 - accuracy: 0.8274\n",
            "Epoch 27/75\n",
            "7/7 [==============================] - 1s 142ms/step - loss: 0.2074 - accuracy: 0.8985\n",
            "Epoch 28/75\n",
            "7/7 [==============================] - 1s 145ms/step - loss: 0.1254 - accuracy: 0.9645\n",
            "Epoch 29/75\n",
            "7/7 [==============================] - 1s 142ms/step - loss: 0.0853 - accuracy: 0.9645\n",
            "Epoch 30/75\n",
            "7/7 [==============================] - 1s 140ms/step - loss: 0.0984 - accuracy: 0.9695\n",
            "Epoch 31/75\n",
            "7/7 [==============================] - 1s 137ms/step - loss: 0.0533 - accuracy: 0.9746\n",
            "Epoch 32/75\n",
            "7/7 [==============================] - 1s 143ms/step - loss: 0.0204 - accuracy: 1.0000\n",
            "Epoch 33/75\n",
            "7/7 [==============================] - 1s 145ms/step - loss: 0.0251 - accuracy: 0.9949\n",
            "Epoch 34/75\n",
            "7/7 [==============================] - 1s 147ms/step - loss: 0.0959 - accuracy: 0.9797\n",
            "Epoch 35/75\n",
            "7/7 [==============================] - 1s 137ms/step - loss: 0.0463 - accuracy: 0.9949\n",
            "Epoch 36/75\n",
            "7/7 [==============================] - 1s 137ms/step - loss: 0.2259 - accuracy: 0.9188\n",
            "Epoch 37/75\n",
            "7/7 [==============================] - 1s 141ms/step - loss: 0.2414 - accuracy: 0.9340\n",
            "Epoch 38/75\n",
            "7/7 [==============================] - 1s 139ms/step - loss: 0.1750 - accuracy: 0.9391\n",
            "Epoch 39/75\n",
            "7/7 [==============================] - 1s 145ms/step - loss: 0.3046 - accuracy: 0.8528\n",
            "Epoch 40/75\n",
            "7/7 [==============================] - 1s 141ms/step - loss: 0.1854 - accuracy: 0.9289\n",
            "Epoch 41/75\n",
            "7/7 [==============================] - 1s 138ms/step - loss: 0.1979 - accuracy: 0.9289\n",
            "Epoch 42/75\n",
            "7/7 [==============================] - 1s 143ms/step - loss: 0.1123 - accuracy: 0.9746\n",
            "Epoch 43/75\n",
            "7/7 [==============================] - 1s 144ms/step - loss: 0.0573 - accuracy: 0.9746\n",
            "Epoch 44/75\n",
            "7/7 [==============================] - 1s 139ms/step - loss: 0.0164 - accuracy: 1.0000\n",
            "Epoch 45/75\n",
            "7/7 [==============================] - 1s 136ms/step - loss: 0.0071 - accuracy: 1.0000\n",
            "Epoch 46/75\n",
            "7/7 [==============================] - 1s 138ms/step - loss: 0.0095 - accuracy: 1.0000\n",
            "Epoch 47/75\n",
            "7/7 [==============================] - 1s 146ms/step - loss: 0.0066 - accuracy: 1.0000\n",
            "Epoch 48/75\n",
            "7/7 [==============================] - 1s 137ms/step - loss: 0.0244 - accuracy: 0.9898\n",
            "Epoch 49/75\n",
            "7/7 [==============================] - 1s 145ms/step - loss: 0.0047 - accuracy: 1.0000\n",
            "Epoch 50/75\n",
            "7/7 [==============================] - 1s 146ms/step - loss: 0.0279 - accuracy: 0.9898\n",
            "Epoch 51/75\n",
            "7/7 [==============================] - 1s 143ms/step - loss: 0.0796 - accuracy: 0.9797\n",
            "Epoch 52/75\n",
            "7/7 [==============================] - 1s 147ms/step - loss: 0.1064 - accuracy: 0.9645\n",
            "Epoch 53/75\n",
            "7/7 [==============================] - 1s 144ms/step - loss: 0.1429 - accuracy: 0.9442\n",
            "Epoch 54/75\n",
            "7/7 [==============================] - 1s 140ms/step - loss: 0.2922 - accuracy: 0.9391\n",
            "Epoch 55/75\n",
            "7/7 [==============================] - 1s 144ms/step - loss: 0.1990 - accuracy: 0.9036\n",
            "Epoch 56/75\n",
            "7/7 [==============================] - 1s 142ms/step - loss: 0.1683 - accuracy: 0.9492\n",
            "Epoch 57/75\n",
            "7/7 [==============================] - 1s 136ms/step - loss: 0.1653 - accuracy: 0.9289\n",
            "Epoch 58/75\n",
            "7/7 [==============================] - 1s 140ms/step - loss: 0.0994 - accuracy: 0.9594\n",
            "Epoch 59/75\n",
            "7/7 [==============================] - 1s 144ms/step - loss: 0.0956 - accuracy: 0.9492\n",
            "Epoch 60/75\n",
            "7/7 [==============================] - 1s 138ms/step - loss: 0.1057 - accuracy: 0.9695\n",
            "Epoch 61/75\n",
            "7/7 [==============================] - 1s 145ms/step - loss: 0.0807 - accuracy: 0.9695\n",
            "Epoch 62/75\n",
            "7/7 [==============================] - 1s 146ms/step - loss: 0.0741 - accuracy: 0.9746\n",
            "Epoch 63/75\n",
            "7/7 [==============================] - 1s 144ms/step - loss: 0.0503 - accuracy: 0.9797\n",
            "Epoch 64/75\n",
            "7/7 [==============================] - 1s 139ms/step - loss: 0.0585 - accuracy: 0.9746\n",
            "Epoch 65/75\n",
            "7/7 [==============================] - 1s 144ms/step - loss: 0.1201 - accuracy: 0.9797\n",
            "Epoch 66/75\n",
            "7/7 [==============================] - 1s 142ms/step - loss: 0.0869 - accuracy: 0.9695\n",
            "Epoch 67/75\n",
            "7/7 [==============================] - 1s 139ms/step - loss: 0.1802 - accuracy: 0.9492\n",
            "Epoch 68/75\n",
            "7/7 [==============================] - 1s 145ms/step - loss: 0.0605 - accuracy: 0.9746\n",
            "Epoch 69/75\n",
            "7/7 [==============================] - 1s 140ms/step - loss: 0.0350 - accuracy: 0.9949\n",
            "Epoch 70/75\n",
            "7/7 [==============================] - 1s 144ms/step - loss: 0.0669 - accuracy: 0.9949\n",
            "Epoch 71/75\n",
            "7/7 [==============================] - 1s 144ms/step - loss: 0.3482 - accuracy: 0.9188\n",
            "Epoch 72/75\n",
            "7/7 [==============================] - 1s 139ms/step - loss: 0.2016 - accuracy: 0.9391\n",
            "Epoch 73/75\n",
            "7/7 [==============================] - 1s 148ms/step - loss: 0.1470 - accuracy: 0.9594\n",
            "Epoch 74/75\n",
            "7/7 [==============================] - 1s 138ms/step - loss: 0.0460 - accuracy: 1.0000\n",
            "Epoch 75/75\n",
            "7/7 [==============================] - 1s 143ms/step - loss: 0.0272 - accuracy: 0.9848\n"
          ],
          "name": "stdout"
        }
      ]
    },
    {
      "cell_type": "markdown",
      "metadata": {
        "id": "aXo9QSuvPkqk"
      },
      "source": [
        "วาดกราฟเพื่อบอก ค่า loss function โดยจะมีตัวแปร hist ที่เก็บค่าจากการ train ข้อมูลมา และ พลอตเป็นกราฟออกมา"
      ]
    },
    {
      "cell_type": "code",
      "metadata": {
        "id": "wD2_V9WebTia",
        "outputId": "58912542-a675-4676-9060-f1646cd889e7",
        "colab": {
          "base_uri": "https://localhost:8080/",
          "height": 282
        }
      },
      "source": [
        "# Plot loss per iteration\n",
        "plt.plot(hist.history['loss'], label='loss')\n",
        "plt.legend()"
      ],
      "execution_count": 8,
      "outputs": [
        {
          "output_type": "execute_result",
          "data": {
            "text/plain": [
              "<matplotlib.legend.Legend at 0x7f23901496a0>"
            ]
          },
          "metadata": {
            "tags": []
          },
          "execution_count": 8
        },
        {
          "output_type": "display_data",
          "data": {
            "image/png": "[encoded data removed]",
            "text/plain": [
              "<Figure size 432x288 with 1 Axes>"
            ]
          },
          "metadata": {
            "tags": [],
            "needs_background": "light"
          }
        }
      ]
    },
    {
      "cell_type": "markdown",
      "metadata": {
        "id": "FHxc2gW4P6S1"
      },
      "source": [
        "วาดกราฟเพื่อบอก ค่า Accuracy โดยจะมีตัวแปร hist ที่เก็บค่าจากการ train ข้อมูลมา และ พลอตเป็นกราฟออกมา"
      ]
    },
    {
      "cell_type": "code",
      "metadata": {
        "id": "aQRvmDSobU2e",
        "outputId": "0808f64e-725c-4afd-c7a2-239f981f041e",
        "colab": {
          "base_uri": "https://localhost:8080/",
          "height": 282
        }
      },
      "source": [
        "# Plot accuracy per iteration\n",
        "plt.plot(hist.history['accuracy'], label='acc')\n",
        "plt.legend()"
      ],
      "execution_count": 9,
      "outputs": [
        {
          "output_type": "execute_result",
          "data": {
            "text/plain": [
              "<matplotlib.legend.Legend at 0x7f2390161048>"
            ]
          },
          "metadata": {
            "tags": []
          },
          "execution_count": 9
        },
        {
          "output_type": "display_data",
          "data": {
            "image/png": "[encoded data removed]",
            "text/plain": [
              "<Figure size 432x288 with 1 Axes>"
            ]
          },
          "metadata": {
            "tags": [],
            "needs_background": "light"
          }
        }
      ]
    },
    {
      "cell_type": "markdown",
      "metadata": {
        "id": "eGlEqBA_dIxn"
      },
      "source": [
        "# วิธีการ TEST"
      ]
    },
    {
      "cell_type": "code",
      "metadata": {
        "id": "ZRbdh5fncW6o",
        "outputId": "5750a3bb-d62a-4347-fe11-1295f44bc8c9",
        "colab": {
          "base_uri": "https://localhost:8080/",
          "height": 69
        }
      },
      "source": [
        "score = model.evaluate(x_test, y_test, verbose=0) # ใช้ method evaluate คำนวณหา loss function กับ Accuracy โดยใช้ x_test y_test ในการหาเพื่อวัดประสิธิภาพ model\n",
        "print(model.metrics_names)\n",
        "print(\"Accuracy\",score[1]*100,\"%\")\n",
        "print(\"Loss\",score[0])"
      ],
      "execution_count": 10,
      "outputs": [
        {
          "output_type": "stream",
          "text": [
            "['loss', 'accuracy']\n",
            "Accuracy 50.0 %\n",
            "Loss 1.8133960962295532\n"
          ],
          "name": "stdout"
        }
      ]
    },
    {
      "cell_type": "markdown",
      "metadata": {
        "id": "KHIfIzuVdFFI"
      },
      "source": [
        "# วิธีการเรียกใช้งาน\n",
        "\n",
        "ทั้งนี้ทั้งนั้น ความถูกต้องของตัวโมเดล ขึ้นอยู่กับชุด Dataset ที่มี"
      ]
    },
    {
      "cell_type": "code",
      "metadata": {
        "id": "Pz8rEdUMczQr"
      },
      "source": [
        "model.save('model.h5') # นำโมเดลออกมาใช้งาน โดยใช้ method save"
      ],
      "execution_count": 12,
      "outputs": []
    },
    {
      "cell_type": "code",
      "metadata": {
        "id": "eHWeSsWJdEa4"
      },
      "source": [
        " from keras.models import load_model\n",
        "#import user folder\n",
        "name = ['Eel','Mastacembelus'] # เก็บชื่อ\n",
        "images = []\n",
        "load_dataset('/content/Untitled Folder') # โหลดข้อมูล จาก Folder\n",
        "x = np.array(images)/255 #  แปลงชนิดข้อมูลเป็น type float32 และหารด้วย 255 ให้ค่าสีอยู่ในช่วง 0–1\n",
        "\n",
        "#load model\n",
        "h5model = load_model('/content/model.h5') # โหลดโมเดล\n",
        "y_model = h5model.predict(x) # ใช้ method predict มาทำนายรูปภาพที่รับเข้ามา แล้วเก็บลงใน y_model\n",
        "\n",
        "\n",
        "#  print(folders)\n",
        "#  print(name)\n",
        " plt.figure(figsize=(30,30)) # กำหนดขนาดภาพ\n",
        "for i in range(len(images)): # วน for เพื่อแสดงผลลัพธ์\n",
        "  plt.subplot(1, len(images), i+1)\n",
        "  plt.imshow(cv2.cvtColor(x[i],cv2.COLOR_BGR2RGB)) # แสดงรุปภาพ ตาม x ที่ i\n",
        "  accuracy = y_model[i][np.argmax(y_model[i])]*100 # เก็บค่าของความถูกต้องของรูปภาพตัวที่ i โดยใช้ np.argmax ดึงค่ามากสุดจากใน y_model ที่ได้ predict ไว้ก่อนหน้า\n",
        "  # plt.title(\"Predicted: %s \\nAccuracy = %.2f\" % (name[np.argmax(y_model[i])], accuracy));\n",
        "  if accuracy >60: # ทำมาเพื่อกำหนดว่า ถ้ารูปภาพมีค่า accuracy หรือค่าความถูกต้องมากกว่า 70 จะให้ แสดงผล ออกมา แต่ ถ้าหากน้อยกว่าจะให้แสดงผลว่า This not predict  เพื่อแสดงถึงว่าภาพค่าความถูกต้องต่ำไป\n",
        "    plt.title(\"Predicted: %s \\nAccuracy = %.2f\" % (name[np.argmax(y_model[i])], accuracy)); # กำหนด title ว่าจะให้แสดงผลอะไรบ้าง\n",
        "  else:\n",
        "    plt.title(\"This not predict\");\n",
        "  plt.axis('off')\n",
        "\n",
        "plt.show() # show ผลลัพธ์"
      ],
      "execution_count": null,
      "outputs": []
    }
  ]
}